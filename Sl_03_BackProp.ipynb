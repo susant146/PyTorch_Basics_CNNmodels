{
  "nbformat": 4,
  "nbformat_minor": 0,
  "metadata": {
    "colab": {
      "provenance": [],
      "authorship_tag": "ABX9TyM0cFQDwsneLoFhO/sxd8np",
      "include_colab_link": true
    },
    "kernelspec": {
      "name": "python3",
      "display_name": "Python 3"
    },
    "language_info": {
      "name": "python"
    }
  },
  "cells": [
    {
      "cell_type": "markdown",
      "metadata": {
        "id": "view-in-github",
        "colab_type": "text"
      },
      "source": [
        "<a href=\"https://colab.research.google.com/github/susant146/PyTorch_Basics_CNNmodels/blob/main/Sl_03_BackProp.ipynb\" target=\"_parent\"><img src=\"https://colab.research.google.com/assets/colab-badge.svg\" alt=\"Open In Colab\"/></a>"
      ]
    },
    {
      "cell_type": "markdown",
      "source": [
        "# Steps for Backpropagation in PyTorch\n",
        "\n",
        "### 1. Define the Model\n",
        "Use `torch.nn` to define the neural network.\n",
        "\n",
        "---\n",
        "\n",
        "### 2. Set the Loss Function\n",
        "Use a predefined loss function, such as:\n",
        "- Mean Squared Error (MSE)\n",
        "- CrossEntropy\n",
        "\n",
        "---\n",
        "\n",
        "### 3. Set the Optimizer\n",
        "Choose an optimizer, such as:\n",
        "- Stochastic Gradient Descent (SGD)\n",
        "- Adam Optimizer\n",
        "\n",
        "---\n",
        "\n",
        "### 4. Forward Pass\n",
        "Compute predictions using the model:\n",
        "- Input data passes through the model layers.\n",
        "- Outputs are generated.\n",
        "\n",
        "---\n",
        "\n",
        "### 5. Compute Loss\n",
        "Compare the model's predictions with the ground truth using the loss function.\n",
        "\n",
        "---\n",
        "\n",
        "### 6. Backward Pass\n",
        "- Call `.backward()` on the loss to compute gradients.\n",
        "- Gradients are stored for each model parameter.\n",
        "\n",
        "---\n",
        "\n",
        "### 7. Update Weights\n",
        "Use the optimizer to adjust model parameters using the computed gradients:\n",
        "- Clear gradients using `optimizer.zero_grad()`.\n",
        "- Apply weight updates with `optimizer.step()`.\n",
        "\n",
        "---"
      ],
      "metadata": {
        "id": "sLW2qJFPSvO3"
      }
    },
    {
      "cell_type": "code",
      "source": [
        "import torch\n",
        "\n",
        "# Define input, weights and output\n",
        "x = torch.tensor(1.0)\n",
        "w = torch.tensor(1.0, requires_grad = True)\n",
        "y = torch.tensor(2.0)\n",
        "\n",
        "# ForwardPass\n",
        "y_hat = w*x\n",
        "s = y_hat - y\n",
        "loss = s**2\n",
        "\n",
        "print('Loss:', loss)\n",
        "\n",
        "#Backwardpass\n",
        "loss.backward()\n",
        "print(w.grad)"
      ],
      "metadata": {
        "colab": {
          "base_uri": "https://localhost:8080/"
        },
        "id": "jLNg7ly6Sy0A",
        "outputId": "97b5cdf8-a887-4344-b9df-576111705e17"
      },
      "execution_count": 3,
      "outputs": [
        {
          "output_type": "stream",
          "name": "stdout",
          "text": [
            "Loss: tensor(1., grad_fn=<PowBackward0>)\n",
            "tensor(-2.)\n"
          ]
        }
      ]
    },
    {
      "cell_type": "markdown",
      "source": [
        "**Small NN Module**"
      ],
      "metadata": {
        "id": "BosYxYd_U7qn"
      }
    },
    {
      "cell_type": "code",
      "source": [
        "import torch\n",
        "import torch.nn as nn\n",
        "import torch.optim as optim\n",
        "\n",
        "# 1. Define a simple linear model\n",
        "model = nn.Linear(1, 1)\n",
        "\n",
        "# 2. Define the loss function\n",
        "criterion = nn.MSELoss()\n",
        "\n",
        "# 3. Set the optimizer\n",
        "optimizer = optim.SGD(model.parameters(), lr=0.01)\n",
        "\n",
        "# Example data\n",
        "x = torch.tensor([[1.0], [2.0], [3.0], [4.0]])\n",
        "y = torch.tensor([[2.0], [4.0], [6.0], [8.0]])\n",
        "\n",
        "# 4. Forward Pass\n",
        "predictions = model(x)\n",
        "\n",
        "# 5. Compute Loss\n",
        "loss = criterion(predictions, y)\n",
        "\n",
        "# 6. Backward Pass\n",
        "optimizer.zero_grad()  # Clear previous gradients\n",
        "loss.backward()        # Compute gradients\n",
        "\n",
        "# 7. Update Weights\n",
        "optimizer.step()       # Adjust weights\n",
        "\n",
        "print(f\"Loss: {loss.item():.4f}\")"
      ],
      "metadata": {
        "colab": {
          "base_uri": "https://localhost:8080/"
        },
        "id": "urDFrYe5U_0b",
        "outputId": "3a9fb35b-5394-4d74-9142-1a429a4ff477"
      },
      "execution_count": 4,
      "outputs": [
        {
          "output_type": "stream",
          "name": "stdout",
          "text": [
            "Loss: 9.4660\n"
          ]
        }
      ]
    },
    {
      "cell_type": "markdown",
      "source": [
        "# Understanding `nn.Linear(1, 1)`\n",
        "\n",
        "### **What Does `nn.Linear(1, 1)` Do?**\n",
        "\n",
        "- `nn.Linear(1, 1)` represents a fully connected (dense) layer with:\n",
        "  - **1 input feature** and **1 output feature**.\n",
        "  - Learnable weight (\\( W \\)) and bias (\\( b \\)).\n",
        "\n",
        "---\n",
        "\n",
        "### **Mathematical Representation**\n",
        "\n",
        "The `nn.Linear` layer computes the following operation:\n",
        "\\[\n",
        "y = W \\cdot x + b\n",
        "\\]\n",
        "\n",
        "Where:\n",
        "- \\( x \\): Input (scalar or vector for higher dimensions).\n",
        "- \\( W \\): Learnable weight (scalar for `nn.Linear(1, 1)`).\n",
        "- \\( b \\): Learnable bias (scalar for `nn.Linear(1, 1)`).\n",
        "- \\( y \\): Output.\n",
        "\n",
        "---\n",
        "\n",
        "### **Key Points**\n",
        "1. The slope (\\( W \\)) and intercept (\\( b \\)) are **randomly initialized** by default.\n",
        "2. They are **learned parameters** that are updated during training.\n",
        "\n",
        "---"
      ],
      "metadata": {
        "id": "j3POp7HEWD7L"
      }
    },
    {
      "cell_type": "code",
      "source": [
        "import torch\n",
        "import torch.nn as nn\n",
        "\n",
        "# Define a single linear layer\n",
        "linear = nn.Linear(1, 1)\n",
        "\n",
        "# Print initial weight and bias\n",
        "print(\"Initial weight:\", linear.weight.item())\n",
        "print(\"Initial bias:\", linear.bias.item())\n",
        "\n",
        "# Pass an input through the layer\n",
        "x = torch.tensor([[2.0]])  # Input x\n",
        "y = linear(x)  # Output y\n",
        "print(\"\\nOutput:\", y.item())"
      ],
      "metadata": {
        "colab": {
          "base_uri": "https://localhost:8080/"
        },
        "id": "kF8x8G7xWE9V",
        "outputId": "1d42e2b3-9e24-4a64-aeaa-5f1fdf3fcca2"
      },
      "execution_count": 5,
      "outputs": [
        {
          "output_type": "stream",
          "name": "stdout",
          "text": [
            "Initial weight: 0.5636951923370361\n",
            "Initial bias: 0.46575701236724854\n",
            "\n",
            "Output: 1.5931473970413208\n"
          ]
        }
      ]
    }
  ]
}