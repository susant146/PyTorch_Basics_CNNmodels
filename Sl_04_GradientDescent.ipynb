{
  "nbformat": 4,
  "nbformat_minor": 0,
  "metadata": {
    "colab": {
      "provenance": [],
      "authorship_tag": "ABX9TyOFrcZnd+ciUqRWD6jUxZW9",
      "include_colab_link": true
    },
    "kernelspec": {
      "name": "python3",
      "display_name": "Python 3"
    },
    "language_info": {
      "name": "python"
    }
  },
  "cells": [
    {
      "cell_type": "markdown",
      "metadata": {
        "id": "view-in-github",
        "colab_type": "text"
      },
      "source": [
        "<a href=\"https://colab.research.google.com/github/susant146/PyTorch_Basics_CNNmodels/blob/main/Sl_04_GradientDescent.ipynb\" target=\"_parent\"><img src=\"https://colab.research.google.com/assets/colab-badge.svg\" alt=\"Open In Colab\"/></a>"
      ]
    },
    {
      "cell_type": "markdown",
      "source": [
        "# Gradinet Descent & Linear regression\n",
        "\n",
        "### 1. Manually using numpy array\n",
        "- Define input and output.\n",
        "- Forwardpass.\n",
        "- Loss Calculation\n",
        "- Manual grad calculation.\n",
        "- Manual backprop\n",
        "- Prediction after N iteration\n",
        "\n",
        "---\n",
        "\n",
        "### 2. Using pytorch inbuilt function\n",
        "- Define input and output.\n",
        "- Forwardpass.\n",
        "- Loss Calculation\n",
        "- Pytorch grad calculation.\n",
        "- Pytorch backprop\n",
        "- Prediction after N iteration"
      ],
      "metadata": {
        "id": "JjJqoXPhQgPz"
      }
    },
    {
      "cell_type": "code",
      "source": [
        "import numpy as np\n",
        "import torch"
      ],
      "metadata": {
        "id": "ubVj5yEIRSbx"
      },
      "execution_count": null,
      "outputs": []
    },
    {
      "cell_type": "code",
      "source": [
        "# Define Linear regression function one input one output\n",
        "# f = w * x\n",
        "# f = 3 * x\n",
        "\n",
        "X = np.array([1, 2, 3, 4, 5], dtype = np.float32)\n",
        "Y = np.array([3, 6, 9, 12, 15], dtype = np.float32)\n",
        "\n",
        "# Initialize weights\n",
        "w = np.random.randn()\n",
        "\n",
        "# define forwardpass\n",
        "def forward(x):\n",
        "  return w*x\n",
        "\n",
        "# Loss function [MSE Loss = mean((y_pred - y)**2)]\n",
        "def loss_fun(y_pred, y):\n",
        "  return ((y_pred - y)**2).mean()\n",
        "\n",
        "# Gradient calculation\n",
        "# dj/dw = d/dw(1/n * (w*x - y)**2) = 1/n*2*x.*(w*x-y)\n",
        "def grad_fun(y, y_pred, x):\n",
        "  return np.dot((2*x), (y_pred - y)).mean()\n",
        "\n",
        "# Print predicted output before training\n",
        "print(f'Predicted output f(20) before training: {forward(20):.3f}')\n",
        "\n",
        "# start the training\n",
        "lr = 0.01\n",
        "num_iter = 10\n",
        "\n",
        "for epoch in range(num_iter):\n",
        "  # Forward pass\n",
        "  y_pred = forward(X)\n",
        "\n",
        "  # Loss calculation\n",
        "  loss = loss_fun(y_pred, Y)\n",
        "\n",
        "  # Gradient calculation.\n",
        "  dw = grad_fun(Y, y_pred, X)\n",
        "\n",
        "  # Update weight\n",
        "  w -= lr*dw\n",
        "\n",
        "  if epoch % 1 == 0:\n",
        "    print(f'Epoch = {epoch+1}, w = {w:.5f}, loss = {loss:.8f}')\n",
        "\n",
        "# Print predicted output after training\n",
        "print(f'Predicted output f(20) after training: {forward(20):.3f}')"
      ],
      "metadata": {
        "colab": {
          "base_uri": "https://localhost:8080/"
        },
        "id": "YC1qCLs8RXEy",
        "outputId": "03c86e45-1121-445d-f99d-e27a7f92785b"
      },
      "execution_count": null,
      "outputs": [
        {
          "output_type": "stream",
          "name": "stdout",
          "text": [
            "Predicted output f(20) before training: -9.958\n",
            "Epoch = 1, w = 3.34979, loss = 134.58901978\n",
            "Epoch = 2, w = 2.96502, loss = 1.34589040\n",
            "Epoch = 3, w = 3.00350, loss = 0.01345891\n",
            "Epoch = 4, w = 2.99965, loss = 0.00013458\n",
            "Epoch = 5, w = 3.00004, loss = 0.00000135\n",
            "Epoch = 6, w = 3.00000, loss = 0.00000001\n",
            "Epoch = 7, w = 3.00000, loss = 0.00000000\n",
            "Epoch = 8, w = 3.00000, loss = 0.00000000\n",
            "Epoch = 9, w = 3.00000, loss = 0.00000000\n",
            "Epoch = 10, w = 3.00000, loss = 0.00000000\n",
            "Predicted output f(20) after training: 60.000\n"
          ]
        }
      ]
    },
    {
      "cell_type": "markdown",
      "source": [
        "### 2. Using pytorch inbuilt function"
      ],
      "metadata": {
        "id": "oGmlyMykaeFY"
      }
    },
    {
      "cell_type": "code",
      "source": [
        "import torch\n",
        "\n",
        "# Torch tensor (Training data) y = w * x (3 * x)\n",
        "X = torch.tensor([1, 2, 3, 4, 5], dtype = torch.float32)\n",
        "Y = torch.tensor([3, 6, 9, 12, 15], dtype = torch.float32)\n",
        "\n",
        "# Initialize weight\n",
        "w = torch.tensor(0.0, dtype = torch.float32, requires_grad=True)\n",
        "\n",
        "# forwardpass\n",
        "def forward(x):\n",
        "  return w*x\n",
        "\n",
        "# Loss function MSE Loss\n",
        "def loss_fun(y_pred, y):\n",
        "  return ((y_pred - y)**2).mean()\n",
        "\n",
        "# Print predicted output before training\n",
        "print(f'Prediction before training: f(20) = {forward(20).item():.3f}')\n",
        "\n",
        "# start the training\n",
        "lr = 0.01\n",
        "num_iter = 100\n",
        "\n",
        "for epoch in range(num_iter):\n",
        "  # forwardpass\n",
        "  y_predicted = forward(X)\n",
        "\n",
        "  # Loss calculation\n",
        "  loss_val = loss_fun(y_predicted, Y)\n",
        "\n",
        "  # backwardpass\n",
        "  loss_val.backward()\n",
        "  # with no gradinet update the weights\n",
        "  with torch.no_grad():\n",
        "    w -= lr*w.grad\n",
        "\n",
        "  # Zero the gradinet now to calculate fresh gradinet using loss_val.backward()\n",
        "  w.grad.zero_()\n",
        "\n",
        "  if epoch % 10 == 0:\n",
        "    print(f'Epoch = {epoch+1}, w = {w:.5f}, loss = {loss_val:.8f}')\n",
        "\n",
        "# Print predicted output after training\n",
        "print(f'Predicted output f(20) after training: {forward(20):.3f}')"
      ],
      "metadata": {
        "colab": {
          "base_uri": "https://localhost:8080/"
        },
        "id": "uzPGTOASafQY",
        "outputId": "c479e3dc-5f4d-4097-cc77-ce8ad9f235af"
      },
      "execution_count": null,
      "outputs": [
        {
          "output_type": "stream",
          "name": "stdout",
          "text": [
            "Prediction before training: f(20) = 0.000\n",
            "Epoch = 1, w = 0.66000, loss = 99.00000000\n",
            "Epoch = 11, w = 2.80494, loss = 0.68790263\n",
            "Epoch = 21, w = 2.98374, loss = 0.00477995\n",
            "Epoch = 31, w = 2.99864, loss = 0.00003321\n",
            "Epoch = 41, w = 2.99989, loss = 0.00000023\n",
            "Epoch = 51, w = 2.99999, loss = 0.00000000\n",
            "Epoch = 61, w = 3.00000, loss = 0.00000000\n",
            "Epoch = 71, w = 3.00000, loss = 0.00000000\n",
            "Epoch = 81, w = 3.00000, loss = 0.00000000\n",
            "Epoch = 91, w = 3.00000, loss = 0.00000000\n",
            "Predicted output f(20) after training: 60.000\n"
          ]
        }
      ]
    },
    {
      "cell_type": "code",
      "source": [
        "X = torch.tensor([1, 2, 3, 4], dtype=torch.float32)\n",
        "Y = torch.tensor([2, 4, 6, 8], dtype=torch.float32)\n",
        "\n",
        "w = torch.tensor(0.0, dtype=torch.float32, requires_grad=True)\n",
        "\n",
        "# model output\n",
        "def forward(x):\n",
        "    return w * x\n",
        "\n",
        "# loss = MSE\n",
        "def loss(y, y_pred):\n",
        "    return ((y_pred - y)**2).mean()\n",
        "\n",
        "print(f'Prediction before training: f(5) = {forward(5).item():.3f}')\n",
        "\n",
        "# Training\n",
        "learning_rate = 0.01\n",
        "n_iters = 100\n",
        "\n",
        "for epoch in range(n_iters):\n",
        "    # predict = forward pass\n",
        "    y_pred = forward(X)\n",
        "\n",
        "    # loss\n",
        "    l = loss(Y, y_pred)\n",
        "\n",
        "    # calculate gradients = backward pass\n",
        "    l.backward()\n",
        "\n",
        "    # update weights\n",
        "    #w.data = w.data - learning_rate * w.grad\n",
        "    with torch.no_grad():\n",
        "        w -= learning_rate * w.grad\n",
        "\n",
        "    # zero the gradients after updating\n",
        "    w.grad.zero_()\n",
        "\n",
        "    if epoch % 10 == 0:\n",
        "        print(f'epoch {epoch+1}: w = {w.item():.3f}, loss = {l.item():.8f}')\n",
        "\n",
        "print(f'Prediction after training: f(5) = {forward(5).item():.3f}')"
      ],
      "metadata": {
        "id": "t7eKGYydijIP"
      },
      "execution_count": null,
      "outputs": []
    }
  ]
}