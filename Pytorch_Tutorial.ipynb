{
  "nbformat": 4,
  "nbformat_minor": 0,
  "metadata": {
    "colab": {
      "provenance": [],
      "gpuType": "T4",
      "authorship_tag": "ABX9TyMoM1CDs/acNmThfBb4jC/0",
      "include_colab_link": true
    },
    "kernelspec": {
      "name": "python3",
      "display_name": "Python 3"
    },
    "language_info": {
      "name": "python"
    },
    "accelerator": "GPU"
  },
  "cells": [
    {
      "cell_type": "markdown",
      "metadata": {
        "id": "view-in-github",
        "colab_type": "text"
      },
      "source": [
        "<a href=\"https://colab.research.google.com/github/susant146/PyTorch_Basics_CNNmodels/blob/main/Pytorch_Tutorial.ipynb\" target=\"_parent\"><img src=\"https://colab.research.google.com/assets/colab-badge.svg\" alt=\"Open In Colab\"/></a>"
      ]
    },
    {
      "cell_type": "markdown",
      "source": [
        "**All Imports Here**"
      ],
      "metadata": {
        "id": "tQlB0Amwnc70"
      }
    },
    {
      "cell_type": "code",
      "source": [
        "import torch\n",
        "import numpy as np"
      ],
      "metadata": {
        "id": "RYxbLsqMp3RV"
      },
      "execution_count": null,
      "outputs": []
    },
    {
      "cell_type": "code",
      "source": [
        "# Creating an empty tensor.\n",
        "x = torch.empty(3,3)\n",
        "x1 = torch.ones(3,3)\n",
        "x2 = torch.rand(3,3)\n",
        "x3 = torch.zeros(3,3)\n",
        "print(x)\n",
        "print('Torch ones matrix:', x1)\n",
        "print('Torch rand matrix:', x2)\n",
        "print('Torch zeros matrix:', x3)"
      ],
      "metadata": {
        "colab": {
          "base_uri": "https://localhost:8080/"
        },
        "id": "Pf30NC8Xqgm9",
        "outputId": "149f5c67-8a84-494c-e619-082aac2b0942"
      },
      "execution_count": null,
      "outputs": [
        {
          "output_type": "stream",
          "name": "stdout",
          "text": [
            "tensor([[0., 0., 0.],\n",
            "        [0., 0., 0.],\n",
            "        [0., 0., 0.]])\n",
            "Torch ones matrix: tensor([[1., 1., 1.],\n",
            "        [1., 1., 1.],\n",
            "        [1., 1., 1.]])\n",
            "Torch rand matrix: tensor([[0.1553, 0.6395, 0.9993],\n",
            "        [0.8629, 0.1108, 0.3929],\n",
            "        [0.3458, 0.4719, 0.2524]])\n",
            "Torch zeros matrix: tensor([[0., 0., 0.],\n",
            "        [0., 0., 0.],\n",
            "        [0., 0., 0.]])\n"
          ]
        }
      ]
    },
    {
      "cell_type": "markdown",
      "source": [
        "**Basic Operations with Torch tensor**"
      ],
      "metadata": {
        "id": "neAuXpB3nJL-"
      }
    },
    {
      "cell_type": "code",
      "source": [
        "x = torch.rand(2,2)\n",
        "y = torch.rand(2,2)\n",
        "\n",
        "z = x + y\n",
        "print('Addition:', z)\n",
        "\n",
        "z1 = torch.add(x,y)\n",
        "print('Addition:', z1)\n",
        "\n",
        "# Inplace addition\n",
        "y.add_(x)\n",
        "print('Inplace Addition:', y)"
      ],
      "metadata": {
        "colab": {
          "base_uri": "https://localhost:8080/"
        },
        "id": "RTRk8LDGnNTE",
        "outputId": "4d540d0a-ed28-433c-e0a3-4656ad01ba9c"
      },
      "execution_count": null,
      "outputs": [
        {
          "output_type": "stream",
          "name": "stdout",
          "text": [
            "Addition: tensor([[0.6741, 1.0557],\n",
            "        [1.1551, 0.6968]])\n",
            "Addition: tensor([[0.6741, 1.0557],\n",
            "        [1.1551, 0.6968]])\n",
            "Inplace Addition: tensor([[0.6741, 1.0557],\n",
            "        [1.1551, 0.6968]])\n"
          ]
        }
      ]
    },
    {
      "cell_type": "code",
      "source": [
        "# Other Operations\n",
        "z = y - x\n",
        "print('Subtraction:', z)\n",
        "z1 = torch.subtract(y,x)\n",
        "print(f'Subtraction: {z1}')\n",
        "\n",
        "z1.subtract_(y)\n",
        "print(f'Inplace subtraction: {z1}')"
      ],
      "metadata": {
        "colab": {
          "base_uri": "https://localhost:8080/"
        },
        "id": "rnHMAgqcoo2f",
        "outputId": "3ed7e583-08dc-430f-d235-fdea68b1b4b0"
      },
      "execution_count": null,
      "outputs": [
        {
          "output_type": "stream",
          "name": "stdout",
          "text": [
            "Subtraction: tensor([[0.2887, 0.3532],\n",
            "        [0.2562, 0.6531]])\n",
            "Subtraction: tensor([[0.2887, 0.3532],\n",
            "        [0.2562, 0.6531]])\n",
            "Inplace subtraction: tensor([[-0.3853, -0.7025],\n",
            "        [-0.8989, -0.0437]])\n"
          ]
        }
      ]
    },
    {
      "cell_type": "code",
      "source": [
        "# Multiplication and Division\n",
        "x = torch.rand(2,2)\n",
        "y = torch.rand(2,2)\n",
        "\n",
        "z = x*y\n",
        "print('Multiplication: ', z)\n",
        "z1 = torch.multiply(x,y) # torch.mul and torch.multiply\n",
        "print('Element-Wise Multiplication:', z1)\n",
        "# Inplace multiplication: y.multiply_(x)\n",
        "\n",
        "z = x / y # torch.div(x,y)\n",
        "print('Element-Wise Division: \\n', z)\n",
        "y.div_(x)\n",
        "print('Inplace Division: \\n', y)\n",
        "\n",
        "# Matrix multiplications\n",
        "# Define two matrices\n",
        "A = torch.tensor([[1, 2], [3, 4]])  # 2x2 matrix\n",
        "B = torch.tensor([[5, 6, 1], [7, 8, 0]])  # 2x2 matrix\n",
        "\n",
        "# Perform matrix multiplication\n",
        "# Must follow the matrix multiplication rule\n",
        "C = torch.mm(A, B)  # Method 1: torch.mm for 2D matrices\n",
        "print(\"Matrix Multiplication Result (torch.mm):\")\n",
        "print(C)\n",
        "\n",
        "# Alternative method: Using torch.matmul (supports broadcasting for higher dimensions)\n",
        "C_broadcast = torch.matmul(A, B)\n",
        "print(\"\\nMatrix Multiplication Result (torch.matmul):\")\n",
        "print(C_broadcast)"
      ],
      "metadata": {
        "colab": {
          "base_uri": "https://localhost:8080/"
        },
        "id": "va5zme8hpXqr",
        "outputId": "ad0be2b8-ec57-4c6b-de4a-89625f4f2c7a"
      },
      "execution_count": null,
      "outputs": [
        {
          "output_type": "stream",
          "name": "stdout",
          "text": [
            "Multiplication:  tensor([[0.0664, 0.6370],\n",
            "        [0.1165, 0.1079]])\n",
            "Element-Wise Multiplication: tensor([[0.0664, 0.6370],\n",
            "        [0.1165, 0.1079]])\n",
            "Element-Wise Division: \n",
            " tensor([[7.2338, 1.2554],\n",
            "        [0.3155, 5.3769]])\n",
            "Inplace Division: \n",
            " tensor([[0.1382, 0.7965],\n",
            "        [3.1700, 0.1860]])\n",
            "Matrix Multiplication Result (torch.mm):\n",
            "tensor([[19, 22,  1],\n",
            "        [43, 50,  3]])\n",
            "\n",
            "Matrix Multiplication Result (torch.matmul):\n",
            "tensor([[19, 22,  1],\n",
            "        [43, 50,  3]])\n"
          ]
        }
      ]
    },
    {
      "cell_type": "code",
      "source": [
        "# Slicing operation same as numpy\n",
        "x = torch.rand(5,4)\n",
        "print(f\"Random Matrix \\n: {x}\")\n",
        "\n",
        "# All row first column (Index start with 0 in python)\n",
        "print(f\"All Row first column: \\n {x[:,0]}\")\n",
        "print(f\"All column first row: \\n {x[0,:]}\")\n",
        "print(f\"Few from both row and column: \\n {x[0:2, 1:3]}\")\n",
        "# One element slicing\n",
        "print(x[1,1])\n",
        "print(f\"one Element item: \\n {x[0,1].item()}\")\n"
      ],
      "metadata": {
        "colab": {
          "base_uri": "https://localhost:8080/"
        },
        "id": "dzUwulO1rwCE",
        "outputId": "37564fb5-d9d8-490f-dbb4-d3a6d8214559"
      },
      "execution_count": null,
      "outputs": [
        {
          "output_type": "stream",
          "name": "stdout",
          "text": [
            "Random Matrix \n",
            ": tensor([[0.6066, 0.3364, 0.6849, 0.2754],\n",
            "        [0.5498, 0.3176, 0.7805, 0.8700],\n",
            "        [0.1993, 0.7023, 0.3729, 0.9300],\n",
            "        [0.8145, 0.1704, 0.3050, 0.0548],\n",
            "        [0.8762, 0.8749, 0.7048, 0.4081]])\n",
            "All Row first column: \n",
            " tensor([0.6066, 0.5498, 0.1993, 0.8145, 0.8762])\n",
            "All column first row: \n",
            " tensor([0.6066, 0.3364, 0.6849, 0.2754])\n",
            "Few from both row and column: \n",
            " tensor([[0.3364, 0.6849],\n",
            "        [0.3176, 0.7805]])\n",
            "tensor(0.3176)\n",
            "one Element item: \n",
            " 0.3363545536994934\n"
          ]
        }
      ]
    },
    {
      "cell_type": "code",
      "source": [
        "# reshaping vs view: PyTorch commands to reshape tensors\n",
        "# Create a tensor\n",
        "tensor = torch.arange(12)  # 1D tensor with values from 0 to 11\n",
        "print(\"Original Tensor:\")\n",
        "print(tensor)\n",
        "\n",
        "# Reshape to 3x4 matrix\n",
        "reshaped_tensor = tensor.reshape(3, 4)\n",
        "print(\"\\nReshaped to 3x4:\")\n",
        "print(reshaped_tensor)\n",
        "\n",
        "# Reshape back to 1D\n",
        "flattened_tensor = reshaped_tensor.reshape(-1)\n",
        "print(\"\\nFlattened Tensor:\")\n",
        "print(flattened_tensor)"
      ],
      "metadata": {
        "colab": {
          "base_uri": "https://localhost:8080/"
        },
        "id": "wV8p5EOHulW2",
        "outputId": "b5773067-aef3-4513-89b4-1490affa07a0"
      },
      "execution_count": null,
      "outputs": [
        {
          "output_type": "stream",
          "name": "stdout",
          "text": [
            "Original Tensor:\n",
            "tensor([ 0,  1,  2,  3,  4,  5,  6,  7,  8,  9, 10, 11])\n",
            "\n",
            "Reshaped to 3x4:\n",
            "tensor([[ 0,  1,  2,  3],\n",
            "        [ 4,  5,  6,  7],\n",
            "        [ 8,  9, 10, 11]])\n",
            "\n",
            "Flattened Tensor:\n",
            "tensor([ 0,  1,  2,  3,  4,  5,  6,  7,  8,  9, 10, 11])\n"
          ]
        }
      ]
    },
    {
      "cell_type": "code",
      "source": [
        "# Reshape to 2x6 using view\n",
        "# reshape: Works regardless of tensor's memory layout.\n",
        "# view: Faster but requires the tensor to have contiguous memory. Use .contiguous() before view if needed.\n",
        "reshaped_view = tensor.view(2, 6)\n",
        "print(\"\\nReshaped to 2x6 using view:\")\n",
        "print(reshaped_view)\n",
        "\n",
        "\n",
        "# Ensuring contiguity before view\n",
        "non_contiguous = tensor.t()\n",
        "contiguous_tensor = non_contiguous.contiguous().view(-1)"
      ],
      "metadata": {
        "colab": {
          "base_uri": "https://localhost:8080/"
        },
        "id": "aY4DBlqbu1aF",
        "outputId": "6327267e-cf34-4eea-aaab-89feea27a292"
      },
      "execution_count": null,
      "outputs": [
        {
          "output_type": "stream",
          "name": "stdout",
          "text": [
            "\n",
            "Reshaped to 2x6 using view:\n",
            "tensor([[ 0,  1,  2,  3,  4,  5],\n",
            "        [ 6,  7,  8,  9, 10, 11]])\n"
          ]
        }
      ]
    },
    {
      "cell_type": "code",
      "source": [
        "# Automatically infer one dimension\n",
        "# Use -1 to let PyTorch infer the size of one dimension.\n",
        "inferred_shape = tensor.reshape(3, -1)\n",
        "print(\"\\nReshaped with Inferred Dimension (2x-1):\")\n",
        "print(inferred_shape)"
      ],
      "metadata": {
        "colab": {
          "base_uri": "https://localhost:8080/"
        },
        "id": "DVdaW7bcvD79",
        "outputId": "e873b93e-a172-4f19-e33c-4d1843e6d02b"
      },
      "execution_count": null,
      "outputs": [
        {
          "output_type": "stream",
          "name": "stdout",
          "text": [
            "\n",
            "Reshaped with Inferred Dimension (2x-1):\n",
            "tensor([[ 0,  1,  2,  3],\n",
            "        [ 4,  5,  6,  7],\n",
            "        [ 8,  9, 10, 11]])\n"
          ]
        }
      ]
    },
    {
      "cell_type": "markdown",
      "source": [
        "**Numpy to PyTorch Tensor & Vice-Versa**"
      ],
      "metadata": {
        "id": "17brerOPx5em"
      }
    },
    {
      "cell_type": "code",
      "source": [
        "a = torch.ones(5)\n",
        "print(a)\n",
        "\n",
        "b = a.numpy()\n",
        "print('Numpy array: \\n', b)\n",
        "print('Type: \\t', type(b))\n",
        "\n",
        "# need to be very careful with place operations\n",
        "a.add_(2)\n",
        "print('Modified a: \\n', a)\n",
        "print('See What happend! \\n', b)"
      ],
      "metadata": {
        "colab": {
          "base_uri": "https://localhost:8080/"
        },
        "id": "NmDwew9Vx_ot",
        "outputId": "777f8699-6cb7-4b6f-fa28-623b9c9d10bd"
      },
      "execution_count": null,
      "outputs": [
        {
          "output_type": "stream",
          "name": "stdout",
          "text": [
            "tensor([1., 1., 1., 1., 1.])\n",
            "Numpy array: \n",
            " [1. 1. 1. 1. 1.]\n",
            "Type: \t <class 'numpy.ndarray'>\n",
            "Modified a: \n",
            " tensor([3., 3., 3., 3., 3.])\n",
            "See What happend! \n",
            " [3. 3. 3. 3. 3.]\n"
          ]
        }
      ]
    },
    {
      "cell_type": "code",
      "source": [
        "a = np.ones(5)\n",
        "print(a)\n",
        "b = torch.from_numpy(a) # default dtype is float64, change\n",
        "# b = b.to(dtype=torch.int)  # or b = b.type(torch.IntTensor)\n",
        "print(b)\n",
        "\n",
        "# Inplace operation\n",
        "a += 1\n",
        "print('a ndarray: \\t',a)\n",
        "print('b Tensor: \\t',b)\n",
        "\n",
        "# Check this one\n",
        "a = a+1\n",
        "print('a ndarray: \\t',a)\n",
        "print('b Tensor: \\t',b)"
      ],
      "metadata": {
        "colab": {
          "base_uri": "https://localhost:8080/"
        },
        "id": "TO3cLCjczXTi",
        "outputId": "f46262eb-584e-4ed5-9955-a5fd4138987b"
      },
      "execution_count": null,
      "outputs": [
        {
          "output_type": "stream",
          "name": "stdout",
          "text": [
            "[1. 1. 1. 1. 1.]\n",
            "tensor([1., 1., 1., 1., 1.], dtype=torch.float64)\n",
            "a ndarray: \t [2. 2. 2. 2. 2.]\n",
            "b Tensor: \t tensor([2., 2., 2., 2., 2.], dtype=torch.float64)\n",
            "a ndarray: \t [3. 3. 3. 3. 3.]\n",
            "b Tensor: \t tensor([2., 2., 2., 2., 2.], dtype=torch.float64)\n"
          ]
        }
      ]
    },
    {
      "cell_type": "markdown",
      "source": [
        "**Check for Available Device:** *Cuda or CPU*"
      ],
      "metadata": {
        "id": "WoD-4KwB1Qzj"
      }
    },
    {
      "cell_type": "code",
      "source": [
        "if torch.cuda.is_available():\n",
        "    device = torch.device(\"cuda\")  # Use GPU\n",
        "    print(\"CUDA is available. Using GPU.\")\n",
        "else:\n",
        "    device = torch.device(\"cpu\")  # Use CPU\n",
        "    print(\"CUDA is not available. Using CPU.\")\n",
        "\n",
        "x = torch.ones(5, device=device)\n",
        "y = torch.ones(5)\n",
        "y = y.to(device)\n",
        "z = x + y\n",
        "print(f'The operation performed in {device}, output: {z}')\n",
        "\n",
        "# As x, y and z are in CUDA, we can't convert them to numpy\n",
        "# z1 = z.numpy() # Error Here\n",
        "# bringing z to cpu\n",
        "z1 = z.cpu()\n",
        "z1 = z1.numpy()\n",
        "print(f\"z1 is in cpu, output ndarray: {z1}\")"
      ],
      "metadata": {
        "colab": {
          "base_uri": "https://localhost:8080/"
        },
        "id": "aQMHex291ZR_",
        "outputId": "9782d229-a92d-44f0-8f2d-c02d6fbb31b6"
      },
      "execution_count": null,
      "outputs": [
        {
          "output_type": "stream",
          "name": "stdout",
          "text": [
            "CUDA is available. Using GPU.\n",
            "The operation performed in cuda, output: tensor([2., 2., 2., 2., 2.], device='cuda:0')\n",
            "z1 is in cpu, output: [2. 2. 2. 2. 2.]\n"
          ]
        }
      ]
    }
  ]
}