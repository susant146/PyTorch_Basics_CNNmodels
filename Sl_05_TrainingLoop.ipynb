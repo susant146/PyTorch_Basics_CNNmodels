{
  "nbformat": 4,
  "nbformat_minor": 0,
  "metadata": {
    "colab": {
      "provenance": [],
      "authorship_tag": "ABX9TyMqs3mMQwyK+Yqdi+ydHW04",
      "include_colab_link": true
    },
    "kernelspec": {
      "name": "python3",
      "display_name": "Python 3"
    },
    "language_info": {
      "name": "python"
    }
  },
  "cells": [
    {
      "cell_type": "markdown",
      "metadata": {
        "id": "view-in-github",
        "colab_type": "text"
      },
      "source": [
        "<a href=\"https://colab.research.google.com/github/susant146/PyTorch_Basics_CNNmodels/blob/main/Sl_05_TrainingLoop.ipynb\" target=\"_parent\"><img src=\"https://colab.research.google.com/assets/colab-badge.svg\" alt=\"Open In Colab\"/></a>"
      ]
    },
    {
      "cell_type": "markdown",
      "source": [
        "# Machine Learning Workflow in PyTorch\n",
        "\n",
        "This notebook demonstrates key steps in training a model in PyTorch:\n",
        "1. **Prediction** - Manual computation of predictions using the model.\n",
        "2. **Gradient Computation** - Using PyTorch's Autograd to calculate gradients.\n",
        "3. **Loss Computation** - Calculating the loss using PyTorch's loss functions.\n",
        "4. **Parameter Updation** - Optimizing parameters using PyTorch's optimization utilities.\n",
        "\n",
        "---"
      ],
      "metadata": {
        "id": "v6RrNyk8SMp4"
      }
    },
    {
      "cell_type": "code",
      "source": [
        "import torch\n",
        "import torch.nn as nn\n",
        "import numpy as np"
      ],
      "metadata": {
        "id": "U8hSnRwuTMR4"
      },
      "execution_count": null,
      "outputs": []
    },
    {
      "cell_type": "code",
      "source": [
        "# Training samples for Linear regression\n",
        "X = torch.tensor([1, 2, 3, 4], dtype = torch.float32)\n",
        "Y = torch.tensor([2, 4, 6, 8], dtype = torch.float32)\n",
        "\n",
        "# initialize weights\n",
        "w = torch.tensor([0.235], dtype = torch.float32, requires_grad=True)\n",
        "\n",
        "def forward(x):\n",
        "  return w*x\n",
        "\n",
        "# Define torch based loss function\n",
        "loss = nn.MSELoss()\n",
        "\n",
        "print(f\"Prediction before training f(5) = {forward(5).item():.4f}\")\n",
        "\n",
        "# Define hyperparameters\n",
        "learn_rate = 0.01\n",
        "max_iter = 100\n",
        "\n",
        "optimizer = torch.optim.SGD([w], lr=learn_rate)\n",
        "\n",
        "# Start the training loop\n",
        "for epoch in range(max_iter):\n",
        "  # forward pass\n",
        "  y_pred = forward(X)\n",
        "\n",
        "  # loss calculation\n",
        "  l = loss(y_pred, Y)\n",
        "\n",
        "  # gradinet calculation\n",
        "  l.backward()\n",
        "\n",
        "  # weight updation\n",
        "  optimizer.step()\n",
        "  optimizer.zero_grad()\n",
        "\n",
        "  if epoch % 10 == 0:\n",
        "        print(f'epoch {epoch+1}: w = {w.item():.3f}, loss = {l.item():.8f}')\n",
        "\n",
        "print(f'Prediction after training: f(5) = {forward(5).item():.3f}')"
      ],
      "metadata": {
        "id": "51TTgoAITW4g",
        "colab": {
          "base_uri": "https://localhost:8080/"
        },
        "outputId": "ddac0030-1a48-43f7-fafa-f29d4775d894"
      },
      "execution_count": 3,
      "outputs": [
        {
          "output_type": "stream",
          "name": "stdout",
          "text": [
            "Prediction before training f(5) = 1.1750\n",
            "epoch 1: w = 0.500, loss = 23.36418724\n",
            "epoch 11: w = 1.705, loss = 0.90558517\n",
            "epoch 21: w = 1.942, loss = 0.03510001\n",
            "epoch 31: w = 1.989, loss = 0.00136046\n",
            "epoch 41: w = 1.998, loss = 0.00005273\n",
            "epoch 51: w = 2.000, loss = 0.00000204\n",
            "epoch 61: w = 2.000, loss = 0.00000008\n",
            "epoch 71: w = 2.000, loss = 0.00000000\n",
            "epoch 81: w = 2.000, loss = 0.00000000\n",
            "epoch 91: w = 2.000, loss = 0.00000000\n",
            "Prediction after training: f(5) = 10.000\n"
          ]
        }
      ]
    },
    {
      "cell_type": "markdown",
      "source": [
        "This notebook demonstrates key steps in training a model in PyTorch:\n",
        "1. **Prediction** - PyTorch model.\n",
        "2. **Gradient Computation** - Using PyTorch's Autograd to calculate gradients.\n",
        "3. **Loss Computation** - Calculating the loss using PyTorch's loss functions.\n",
        "4. **Parameter Updation** - Optimizing parameters using PyTorch's optimization utilities."
      ],
      "metadata": {
        "id": "ytoEJ4wwegYz"
      }
    },
    {
      "cell_type": "code",
      "source": [
        "# 0) Training samples, watch the shape!\n",
        "X = torch.tensor([[1], [2], [3], [4]], dtype=torch.float32)\n",
        "Y = torch.tensor([[2], [4], [6], [8]], dtype=torch.float32)\n",
        "\n",
        "n_samples, n_features = X.shape\n",
        "print(f'#samples: {n_samples}, #features: {n_features}')\n",
        "# 0) create a test sample\n",
        "X_test = torch.tensor([5], dtype=torch.float32)\n",
        "\n",
        "# 1) Design Model, the model has to implement the forward pass!\n",
        "# Here we can use a built-in model from PyTorch\n",
        "input_size = n_features\n",
        "output_size = n_features\n",
        "\n",
        "# Define the Linear Regression Model here.\n",
        "# we can call this model with samples X\n",
        "# model = nn.Linear(input_size, output_size)\n",
        "\n",
        "\n",
        "class LinearRegression(nn.Module):\n",
        "    def __init__(self, input_dim, output_dim):\n",
        "        super(LinearRegression, self).__init__()\n",
        "        # define diferent layers\n",
        "        self.lin = nn.Linear(input_dim, output_dim)\n",
        "\n",
        "    def forward(self, x):\n",
        "        return self.lin(x)\n",
        "\n",
        "model = LinearRegression(input_size, output_size)\n",
        "\n",
        "\n",
        "# Define torch based loss function\n",
        "loss = nn.MSELoss()\n",
        "\n",
        "print(f\"Prediction before training f(5) = {model(X_test).item():.4f}\")\n",
        "\n",
        "# Define hyperparameters\n",
        "learn_rate = 0.01\n",
        "max_iter = 100\n",
        "\n",
        "optimizer = torch.optim.SGD(model.parameters(), lr=learn_rate)\n",
        "\n",
        "# Start the training loop\n",
        "for epoch in range(max_iter):\n",
        "  # forward pass\n",
        "  y_pred = model(X)\n",
        "\n",
        "  # loss calculation\n",
        "  l = loss(y_pred, Y)\n",
        "\n",
        "  # gradinet calculation\n",
        "  l.backward()\n",
        "\n",
        "  # weight updation\n",
        "  optimizer.step()\n",
        "  optimizer.zero_grad()\n",
        "\n",
        "  if epoch % 10 == 0:\n",
        "    [w, b] = model.parameters()\n",
        "    print(f'epoch {epoch+1}: w = {w[0][0].item():.3f}, loss = {l.item():.8f}')\n",
        "\n",
        "print(f'Prediction after training: f(5) = {model(X_test).item():.3f}')"
      ],
      "metadata": {
        "colab": {
          "base_uri": "https://localhost:8080/"
        },
        "id": "QwBLeEDxekCP",
        "outputId": "ae63e560-d015-49b5-ebf1-278a0939c5ad"
      },
      "execution_count": 7,
      "outputs": [
        {
          "output_type": "stream",
          "name": "stdout",
          "text": [
            "#samples: 4, #features: 1\n",
            "Prediction before training f(5) = -4.4890\n",
            "epoch 1: w = -0.564, loss = 60.38134003\n",
            "epoch 11: w = 1.224, loss = 1.82997441\n",
            "epoch 21: w = 1.523, loss = 0.29952562\n",
            "epoch 31: w = 1.581, loss = 0.24525087\n",
            "epoch 41: w = 1.601, loss = 0.23002279\n",
            "epoch 51: w = 1.614, loss = 0.21660966\n",
            "epoch 61: w = 1.625, loss = 0.20400119\n",
            "epoch 71: w = 1.636, loss = 0.19212726\n",
            "epoch 81: w = 1.647, loss = 0.18094440\n",
            "epoch 91: w = 1.657, loss = 0.17041247\n",
            "Prediction after training: f(5) = 9.313\n"
          ]
        }
      ]
    }
  ]
}